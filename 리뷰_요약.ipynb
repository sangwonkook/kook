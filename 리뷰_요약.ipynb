{
  "nbformat": 4,
  "nbformat_minor": 0,
  "metadata": {
    "colab": {
      "provenance": [],
      "mount_file_id": "1nZVotYPGVqFH8bd0H4nR5OkKD482_Fsu",
      "authorship_tag": "ABX9TyM2gpTLOLFsT7fb+QVKaHFj",
      "include_colab_link": true
    },
    "kernelspec": {
      "name": "python3",
      "display_name": "Python 3"
    },
    "language_info": {
      "name": "python"
    }
  },
  "cells": [
    {
      "cell_type": "markdown",
      "metadata": {
        "id": "view-in-github",
        "colab_type": "text"
      },
      "source": [
        "<a href=\"https://colab.research.google.com/github/sangwonkook/kook/blob/main/%EB%A6%AC%EB%B7%B0_%EC%9A%94%EC%95%BD.ipynb\" target=\"_parent\"><img src=\"https://colab.research.google.com/assets/colab-badge.svg\" alt=\"Open In Colab\"/></a>"
      ]
    },
    {
      "cell_type": "code",
      "source": [
        "# 파일 경로 설정\n",
        "file_path = '/content/drive/MyDrive/수업진행프로젝트/foreign_worker_reviews_dummy_fixed.csv'"
      ],
      "metadata": {
        "id": "X3bRHKoyuNc3"
      },
      "execution_count": 6,
      "outputs": []
    },
    {
      "cell_type": "code",
      "source": [
        "# 1. 라이브러리 설치\n",
        "!pip install transformers sentencepiece\n",
        "\n",
        "import pandas as pd\n",
        "from transformers import pipeline\n",
        "\n",
        "# 2. 데이터 불러오기\n",
        "df = pd.read_csv(\"/content/drive/MyDrive/수업진행프로젝트/foreign_worker_reviews_dummy_fixed.csv\")\n",
        "\n",
        "# 3. 기업별 설문(수치형) 요약: 평균 값 집계\n",
        "survey_summary = df.groupby(\"기업명\")[[\"평점\", \"복지\", \"임금\", \"근로환경\", \"안전\", \"소통\"]].mean().round(2)\n",
        "print(\"📊 기업별 평균 점수 요약\")\n",
        "print(survey_summary)\n",
        "\n",
        "# 4. 리뷰 요약 준비\n",
        "# 리뷰를 기업별로 합쳐서 요약 진행\n",
        "company_reviews = df.groupby(\"기업명\")[\"리뷰내용\"].apply(lambda x: \" \".join(x)).reset_index()\n",
        "\n",
        "# 5. 다국어 요약 모델 로드\n",
        "summarizer = pipeline(\"summarization\", model=\"facebook/mbart-large-cc25\")\n",
        "\n",
        "# 6. 기업별 리뷰 요약\n",
        "summaries = []\n",
        "for _, row in company_reviews.iterrows():\n",
        "    company = row[\"기업명\"]\n",
        "    text = row[\"리뷰내용\"]\n",
        "\n",
        "    # 모델 입력 제한(길이 초과 방지)\n",
        "    text = text[:1000]\n",
        "\n",
        "    summary = summarizer(text, max_length=60, min_length=10, do_sample=False)\n",
        "    summaries.append({\"기업명\": company, \"리뷰요약\": summary[0]['summary_text']})\n",
        "\n",
        "summary_df = pd.DataFrame(summaries)\n",
        "\n",
        "print(\"\\n📝 리뷰 요약 결과\")\n",
        "print(summary_df)\n"
      ],
      "metadata": {
        "colab": {
          "base_uri": "https://localhost:8080/"
        },
        "id": "6hdOOtWGutYO",
        "outputId": "b32b7025-ba47-4a61-f5bd-c304411d0afb"
      },
      "execution_count": 7,
      "outputs": [
        {
          "output_type": "stream",
          "name": "stdout",
          "text": [
            "Requirement already satisfied: transformers in /usr/local/lib/python3.12/dist-packages (4.55.2)\n",
            "Requirement already satisfied: sentencepiece in /usr/local/lib/python3.12/dist-packages (0.2.1)\n",
            "Requirement already satisfied: filelock in /usr/local/lib/python3.12/dist-packages (from transformers) (3.19.1)\n",
            "Requirement already satisfied: huggingface-hub<1.0,>=0.34.0 in /usr/local/lib/python3.12/dist-packages (from transformers) (0.34.4)\n",
            "Requirement already satisfied: numpy>=1.17 in /usr/local/lib/python3.12/dist-packages (from transformers) (2.0.2)\n",
            "Requirement already satisfied: packaging>=20.0 in /usr/local/lib/python3.12/dist-packages (from transformers) (25.0)\n",
            "Requirement already satisfied: pyyaml>=5.1 in /usr/local/lib/python3.12/dist-packages (from transformers) (6.0.2)\n",
            "Requirement already satisfied: regex!=2019.12.17 in /usr/local/lib/python3.12/dist-packages (from transformers) (2024.11.6)\n",
            "Requirement already satisfied: requests in /usr/local/lib/python3.12/dist-packages (from transformers) (2.32.4)\n",
            "Requirement already satisfied: tokenizers<0.22,>=0.21 in /usr/local/lib/python3.12/dist-packages (from transformers) (0.21.4)\n",
            "Requirement already satisfied: safetensors>=0.4.3 in /usr/local/lib/python3.12/dist-packages (from transformers) (0.6.2)\n",
            "Requirement already satisfied: tqdm>=4.27 in /usr/local/lib/python3.12/dist-packages (from transformers) (4.67.1)\n",
            "Requirement already satisfied: fsspec>=2023.5.0 in /usr/local/lib/python3.12/dist-packages (from huggingface-hub<1.0,>=0.34.0->transformers) (2025.3.0)\n",
            "Requirement already satisfied: typing-extensions>=3.7.4.3 in /usr/local/lib/python3.12/dist-packages (from huggingface-hub<1.0,>=0.34.0->transformers) (4.14.1)\n",
            "Requirement already satisfied: hf-xet<2.0.0,>=1.1.3 in /usr/local/lib/python3.12/dist-packages (from huggingface-hub<1.0,>=0.34.0->transformers) (1.1.7)\n",
            "Requirement already satisfied: charset_normalizer<4,>=2 in /usr/local/lib/python3.12/dist-packages (from requests->transformers) (3.4.3)\n",
            "Requirement already satisfied: idna<4,>=2.5 in /usr/local/lib/python3.12/dist-packages (from requests->transformers) (3.10)\n",
            "Requirement already satisfied: urllib3<3,>=1.21.1 in /usr/local/lib/python3.12/dist-packages (from requests->transformers) (2.5.0)\n",
            "Requirement already satisfied: certifi>=2017.4.17 in /usr/local/lib/python3.12/dist-packages (from requests->transformers) (2025.8.3)\n",
            "📊 기업별 평균 점수 요약\n",
            "           평점    복지    임금  근로환경    안전    소통\n",
            "기업명                                        \n",
            "광주물류     3.53  3.35  2.71  2.94  3.00  3.59\n",
            "광주섬유     3.26  3.22  2.52  3.43  3.26  3.09\n",
            "광주식품     3.00  3.25  3.44  3.00  3.25  2.88\n",
            "광주자동차부품  3.21  3.00  3.26  3.05  3.53  3.00\n",
            "광주전자     2.72  2.64  3.16  3.12  3.16  2.92\n"
          ]
        },
        {
          "output_type": "stream",
          "name": "stderr",
          "text": [
            "Device set to use cpu\n"
          ]
        },
        {
          "output_type": "stream",
          "name": "stdout",
          "text": [
            "\n",
            "📝 리뷰 요약 결과\n",
            "       기업명                                               리뷰요약\n",
            "0     광주물류  salary is good but communication is good but c...\n",
            "1     광주섬유  is not well managed. Thời gian làm việc làm vi...\n",
            "2     광주식품  gian làm việc làm việc làm việc làm việc làm v...\n",
            "3  광주자동차부품  andandantsantsantsantsants,但是环境还可以。工资不高,安全,有有有...\n",
            "4     광주전자  salary is good but communication is good but c...\n"
          ]
        }
      ]
    },
    {
      "cell_type": "code",
      "source": [
        "for idx, row in summary_df.iterrows():\n",
        "    print(f\"기업명: {row['기업명']}\")\n",
        "    print(f\"리뷰요약: {row['리뷰요약']}\\n\")\n"
      ],
      "metadata": {
        "colab": {
          "base_uri": "https://localhost:8080/"
        },
        "id": "BMxf9m92HB_6",
        "outputId": "418c3059-6a4d-460e-f15d-f46108154de0"
      },
      "execution_count": 8,
      "outputs": [
        {
          "output_type": "stream",
          "name": "stdout",
          "text": [
            "기업명: 광주물류\n",
            "리뷰요약: salary is good but communication is good but communication is good but communication is good but communication is good but communication is good but communication is good but communication is good but communication is good but communication is hard. 工资不高,但是环境还可以。 Thời gian làm việc quá dài\n",
            "\n",
            "기업명: 광주섬유\n",
            "리뷰요약: is not well managed. Thời gian làm việc làm việc làm việc quá dài nhưng đồng nghiệp thân thiện nghiệp thân thiện nghiệp thân thiện nghiệp thân thiện,工作 not well managed,工作 is not well managed,工作 is not well managed,工作 is not well managed,工作,\n",
            "\n",
            "기업명: 광주식품\n",
            "리뷰요약: gian làm việc làm việc làm việc làm việc làm việc làm việc làm việc làm việc quá dài dài dài dài dài dài dài. 工资不高, communication is good but communication is good but communication is good but communication is good but communication is good but communication is good but communication\n",
            "\n",
            "기업명: 광주자동차부품\n",
            "리뷰요약: andandantsantsantsantsants,但是环境还可以。工资不高,安全,有有有有有有有有有有有有有有有有有有有有有有有有有有有有有有有有有有有有有有有\n",
            "\n",
            "기업명: 광주전자\n",
            "리뷰요약: salary is good but communication is good but communication is good but communication is good but communication is good but communication is good but communication is good but communication is good but communication is good but communication is good but communication is good but communication is good but communication is good but communication is\n",
            "\n"
          ]
        }
      ]
    }
  ]
}